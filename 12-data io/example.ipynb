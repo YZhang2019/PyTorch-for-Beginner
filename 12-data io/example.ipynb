{
 "cells": [
  {
   "cell_type": "code",
   "execution_count": 1,
   "source": [
    "from torch.utils.data import DataLoader\n",
    "from custom_data_io import custom_dset, collate_fn"
   ],
   "outputs": [],
   "metadata": {}
  },
  {
   "cell_type": "code",
   "execution_count": 2,
   "source": [
    "dset = custom_dset('./train/img', './train.txt')"
   ],
   "outputs": [],
   "metadata": {}
  },
  {
   "cell_type": "code",
   "execution_count": 3,
   "source": [
    "dset[0]"
   ],
   "outputs": [
    {
     "output_type": "execute_result",
     "data": {
      "text/plain": [
       "('./train/img/1009_2.png', 'YOU')"
      ]
     },
     "metadata": {},
     "execution_count": 3
    }
   ],
   "metadata": {}
  },
  {
   "cell_type": "code",
   "execution_count": 4,
   "source": [
    "dset[1]"
   ],
   "outputs": [
    {
     "output_type": "execute_result",
     "data": {
      "text/plain": [
       "('./train/img/1017_1.png', 'RESCUE')"
      ]
     },
     "metadata": {},
     "execution_count": 4
    }
   ],
   "metadata": {}
  },
  {
   "cell_type": "code",
   "execution_count": 5,
   "source": [
    "custom_loader = DataLoader(dset, batch_size=8, shuffle=True, collate_fn=collate_fn)"
   ],
   "outputs": [],
   "metadata": {}
  },
  {
   "cell_type": "code",
   "execution_count": 6,
   "source": [
    "img, label, lens = custom_loader.__iter__().__next__()"
   ],
   "outputs": [],
   "metadata": {}
  },
  {
   "cell_type": "code",
   "execution_count": 7,
   "source": [
    "img"
   ],
   "outputs": [
    {
     "output_type": "execute_result",
     "data": {
      "text/plain": [
       "('./train/img/2055_11.png',\n",
       " './train/img/328_2.png',\n",
       " './train/img/893_2.png',\n",
       " './train/img/5204_1.png',\n",
       " './train/img/907_11.png',\n",
       " './train/img/754_3.png',\n",
       " './train/img/999_5.png',\n",
       " './train/img/5146_3.png')"
      ]
     },
     "metadata": {},
     "execution_count": 7
    }
   ],
   "metadata": {}
  },
  {
   "cell_type": "code",
   "execution_count": 8,
   "source": [
    "label"
   ],
   "outputs": [
    {
     "output_type": "execute_result",
     "data": {
      "text/plain": [
       "[['M', 'A', 'H', 'A', 'R', 'A', 'S', 'H', 'T', 'R', 'A'],\n",
       " ['G', 'E', 'N', 'E', 'R', 'A', 'T', 'I', 'N', 'G', 0],\n",
       " ['C', 'O', 'V', 'E', 'R', 'U', 'P', 0, 0, 0, 0],\n",
       " ['U', 'N', 'B', 'O', 'R', 'N', 0, 0, 0, 0, 0],\n",
       " ['B', 'E', 'A', 'C', 'H', 0, 0, 0, 0, 0, 0],\n",
       " ['S', 'I', 'D', 'E', 0, 0, 0, 0, 0, 0, 0],\n",
       " ['C', 'O', 'P', 'Y', 0, 0, 0, 0, 0, 0, 0],\n",
       " ['C', 'O', 'P', 0, 0, 0, 0, 0, 0, 0, 0]]"
      ]
     },
     "metadata": {},
     "execution_count": 8
    }
   ],
   "metadata": {}
  },
  {
   "cell_type": "code",
   "execution_count": 9,
   "source": [
    "lens"
   ],
   "outputs": [
    {
     "output_type": "execute_result",
     "data": {
      "text/plain": [
       "[11, 10, 7, 6, 5, 4, 4, 3]"
      ]
     },
     "metadata": {},
     "execution_count": 9
    }
   ],
   "metadata": {}
  }
 ],
 "metadata": {
  "anaconda-cloud": {},
  "kernelspec": {
   "name": "python3",
   "display_name": "Python 3.8.3 64-bit"
  },
  "language_info": {
   "codemirror_mode": {
    "name": "ipython",
    "version": 3
   },
   "file_extension": ".py",
   "mimetype": "text/x-python",
   "name": "python",
   "nbconvert_exporter": "python",
   "pygments_lexer": "ipython3",
   "version": "3.8.3"
  },
  "interpreter": {
   "hash": "aee8b7b246df8f9039afb4144a1f6fd8d2ca17a180786b69acc140d282b71a49"
  }
 },
 "nbformat": 4,
 "nbformat_minor": 1
}